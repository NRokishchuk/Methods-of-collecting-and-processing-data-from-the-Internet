{
 "cells": [
  {
   "cell_type": "code",
   "execution_count": null,
   "id": "dd4300fa",
   "metadata": {},
   "outputs": [],
   "source": [
    "#1. Посмотреть документацию к API GitHub, разобраться как вывести список репозиториев для конкретного пользователя, \n",
    "#сохранить JSON-вывод в файле *.json."
   ]
  },
  {
   "cell_type": "code",
   "execution_count": 102,
   "id": "a448e1d3",
   "metadata": {},
   "outputs": [],
   "source": [
    "import requests\n",
    "import time\n",
    "import json"
   ]
  },
  {
   "cell_type": "code",
   "execution_count": 103,
   "id": "114bce59",
   "metadata": {},
   "outputs": [],
   "source": [
    "def get_data(url: str) -> dict:\n",
    "    while True:\n",
    "        time.sleep(1)\n",
    "        response = requests.get(url)\n",
    "        if response.status_code == 200:\n",
    "            break\n",
    "    return response.json()"
   ]
  },
  {
   "cell_type": "code",
   "execution_count": 104,
   "id": "475c077f",
   "metadata": {},
   "outputs": [
    {
     "data": {
      "text/plain": [
       "True"
      ]
     },
     "execution_count": 104,
     "metadata": {},
     "output_type": "execute_result"
    }
   ],
   "source": [
    "username == 'NRokishchuk'"
   ]
  },
  {
   "cell_type": "code",
   "execution_count": 105,
   "id": "2e9c866e",
   "metadata": {},
   "outputs": [],
   "source": [
    "url = 'https://api.github.com/users/'+username+'/repos'"
   ]
  },
  {
   "cell_type": "code",
   "execution_count": 106,
   "id": "d6f37223",
   "metadata": {},
   "outputs": [],
   "source": [
    "response = get_data(url)"
   ]
  },
  {
   "cell_type": "code",
   "execution_count": 107,
   "id": "08c03e36",
   "metadata": {},
   "outputs": [
    {
     "name": "stdout",
     "output_type": "stream",
     "text": [
      "[{'id': 369783906, 'node_id': 'MDEwOlJlcG9zaXRvcnkzNjk3ODM5MDY=', 'name': 'FirstCalc', 'full_name': 'NRokishchuk/FirstCalc', 'private': False, 'owner': {'login': 'NRokishchuk', 'id': 84530924, 'node_id': 'MDQ6VXNlcjg0NTMwOTI0', 'avatar_url': 'https://avatars.githubusercontent.com/u/84530924?v=4', 'gravatar_id': '', 'url': 'https://api.github.com/users/NRokishchuk', 'html_url': 'https://github.com/NRokishchuk', 'followers_url': 'https://api.github.com/users/NRokishchuk/followers', 'following_url': 'https://api.github.com/users/NRokishchuk/following{/other_user}', 'gists_url': 'https://api.github.com/users/NRokishchuk/gists{/gist_id}', 'starred_url': 'https://api.github.com/users/NRokishchuk/starred{/owner}{/repo}', 'subscriptions_url': 'https://api.github.com/users/NRokishchuk/subscriptions', 'organizations_url': 'https://api.github.com/users/NRokishchuk/orgs', 'repos_url': 'https://api.github.com/users/NRokishchuk/repos', 'events_url': 'https://api.github.com/users/NRokishchuk/events{/privacy}', 'received_events_url': 'https://api.github.com/users/NRokishchuk/received_events', 'type': 'User', 'site_admin': False}, 'html_url': 'https://github.com/NRokishchuk/FirstCalc', 'description': None, 'fork': False, 'url': 'https://api.github.com/repos/NRokishchuk/FirstCalc', 'forks_url': 'https://api.github.com/repos/NRokishchuk/FirstCalc/forks', 'keys_url': 'https://api.github.com/repos/NRokishchuk/FirstCalc/keys{/key_id}', 'collaborators_url': 'https://api.github.com/repos/NRokishchuk/FirstCalc/collaborators{/collaborator}', 'teams_url': 'https://api.github.com/repos/NRokishchuk/FirstCalc/teams', 'hooks_url': 'https://api.github.com/repos/NRokishchuk/FirstCalc/hooks', 'issue_events_url': 'https://api.github.com/repos/NRokishchuk/FirstCalc/issues/events{/number}', 'events_url': 'https://api.github.com/repos/NRokishchuk/FirstCalc/events', 'assignees_url': 'https://api.github.com/repos/NRokishchuk/FirstCalc/assignees{/user}', 'branches_url': 'https://api.github.com/repos/NRokishchuk/FirstCalc/branches{/branch}', 'tags_url': 'https://api.github.com/repos/NRokishchuk/FirstCalc/tags', 'blobs_url': 'https://api.github.com/repos/NRokishchuk/FirstCalc/git/blobs{/sha}', 'git_tags_url': 'https://api.github.com/repos/NRokishchuk/FirstCalc/git/tags{/sha}', 'git_refs_url': 'https://api.github.com/repos/NRokishchuk/FirstCalc/git/refs{/sha}', 'trees_url': 'https://api.github.com/repos/NRokishchuk/FirstCalc/git/trees{/sha}', 'statuses_url': 'https://api.github.com/repos/NRokishchuk/FirstCalc/statuses/{sha}', 'languages_url': 'https://api.github.com/repos/NRokishchuk/FirstCalc/languages', 'stargazers_url': 'https://api.github.com/repos/NRokishchuk/FirstCalc/stargazers', 'contributors_url': 'https://api.github.com/repos/NRokishchuk/FirstCalc/contributors', 'subscribers_url': 'https://api.github.com/repos/NRokishchuk/FirstCalc/subscribers', 'subscription_url': 'https://api.github.com/repos/NRokishchuk/FirstCalc/subscription', 'commits_url': 'https://api.github.com/repos/NRokishchuk/FirstCalc/commits{/sha}', 'git_commits_url': 'https://api.github.com/repos/NRokishchuk/FirstCalc/git/commits{/sha}', 'comments_url': 'https://api.github.com/repos/NRokishchuk/FirstCalc/comments{/number}', 'issue_comment_url': 'https://api.github.com/repos/NRokishchuk/FirstCalc/issues/comments{/number}', 'contents_url': 'https://api.github.com/repos/NRokishchuk/FirstCalc/contents/{+path}', 'compare_url': 'https://api.github.com/repos/NRokishchuk/FirstCalc/compare/{base}...{head}', 'merges_url': 'https://api.github.com/repos/NRokishchuk/FirstCalc/merges', 'archive_url': 'https://api.github.com/repos/NRokishchuk/FirstCalc/{archive_format}{/ref}', 'downloads_url': 'https://api.github.com/repos/NRokishchuk/FirstCalc/downloads', 'issues_url': 'https://api.github.com/repos/NRokishchuk/FirstCalc/issues{/number}', 'pulls_url': 'https://api.github.com/repos/NRokishchuk/FirstCalc/pulls{/number}', 'milestones_url': 'https://api.github.com/repos/NRokishchuk/FirstCalc/milestones{/number}', 'notifications_url': 'https://api.github.com/repos/NRokishchuk/FirstCalc/notifications{?since,all,participating}', 'labels_url': 'https://api.github.com/repos/NRokishchuk/FirstCalc/labels{/name}', 'releases_url': 'https://api.github.com/repos/NRokishchuk/FirstCalc/releases{/id}', 'deployments_url': 'https://api.github.com/repos/NRokishchuk/FirstCalc/deployments', 'created_at': '2021-05-22T10:54:00Z', 'updated_at': '2021-05-28T16:14:01Z', 'pushed_at': '2021-05-28T16:13:58Z', 'git_url': 'git://github.com/NRokishchuk/FirstCalc.git', 'ssh_url': 'git@github.com:NRokishchuk/FirstCalc.git', 'clone_url': 'https://github.com/NRokishchuk/FirstCalc.git', 'svn_url': 'https://github.com/NRokishchuk/FirstCalc', 'homepage': None, 'size': 147, 'stargazers_count': 0, 'watchers_count': 0, 'language': 'Java', 'has_issues': True, 'has_projects': True, 'has_downloads': True, 'has_wiki': True, 'has_pages': False, 'forks_count': 0, 'mirror_url': None, 'archived': False, 'disabled': False, 'open_issues_count': 0, 'license': None, 'forks': 0, 'open_issues': 0, 'watchers': 0, 'default_branch': 'master'}, {'id': 383057429, 'node_id': 'MDEwOlJlcG9zaXRvcnkzODMwNTc0Mjk=', 'name': 'Kotlin', 'full_name': 'NRokishchuk/Kotlin', 'private': False, 'owner': {'login': 'NRokishchuk', 'id': 84530924, 'node_id': 'MDQ6VXNlcjg0NTMwOTI0', 'avatar_url': 'https://avatars.githubusercontent.com/u/84530924?v=4', 'gravatar_id': '', 'url': 'https://api.github.com/users/NRokishchuk', 'html_url': 'https://github.com/NRokishchuk', 'followers_url': 'https://api.github.com/users/NRokishchuk/followers', 'following_url': 'https://api.github.com/users/NRokishchuk/following{/other_user}', 'gists_url': 'https://api.github.com/users/NRokishchuk/gists{/gist_id}', 'starred_url': 'https://api.github.com/users/NRokishchuk/starred{/owner}{/repo}', 'subscriptions_url': 'https://api.github.com/users/NRokishchuk/subscriptions', 'organizations_url': 'https://api.github.com/users/NRokishchuk/orgs', 'repos_url': 'https://api.github.com/users/NRokishchuk/repos', 'events_url': 'https://api.github.com/users/NRokishchuk/events{/privacy}', 'received_events_url': 'https://api.github.com/users/NRokishchuk/received_events', 'type': 'User', 'site_admin': False}, 'html_url': 'https://github.com/NRokishchuk/Kotlin', 'description': None, 'fork': False, 'url': 'https://api.github.com/repos/NRokishchuk/Kotlin', 'forks_url': 'https://api.github.com/repos/NRokishchuk/Kotlin/forks', 'keys_url': 'https://api.github.com/repos/NRokishchuk/Kotlin/keys{/key_id}', 'collaborators_url': 'https://api.github.com/repos/NRokishchuk/Kotlin/collaborators{/collaborator}', 'teams_url': 'https://api.github.com/repos/NRokishchuk/Kotlin/teams', 'hooks_url': 'https://api.github.com/repos/NRokishchuk/Kotlin/hooks', 'issue_events_url': 'https://api.github.com/repos/NRokishchuk/Kotlin/issues/events{/number}', 'events_url': 'https://api.github.com/repos/NRokishchuk/Kotlin/events', 'assignees_url': 'https://api.github.com/repos/NRokishchuk/Kotlin/assignees{/user}', 'branches_url': 'https://api.github.com/repos/NRokishchuk/Kotlin/branches{/branch}', 'tags_url': 'https://api.github.com/repos/NRokishchuk/Kotlin/tags', 'blobs_url': 'https://api.github.com/repos/NRokishchuk/Kotlin/git/blobs{/sha}', 'git_tags_url': 'https://api.github.com/repos/NRokishchuk/Kotlin/git/tags{/sha}', 'git_refs_url': 'https://api.github.com/repos/NRokishchuk/Kotlin/git/refs{/sha}', 'trees_url': 'https://api.github.com/repos/NRokishchuk/Kotlin/git/trees{/sha}', 'statuses_url': 'https://api.github.com/repos/NRokishchuk/Kotlin/statuses/{sha}', 'languages_url': 'https://api.github.com/repos/NRokishchuk/Kotlin/languages', 'stargazers_url': 'https://api.github.com/repos/NRokishchuk/Kotlin/stargazers', 'contributors_url': 'https://api.github.com/repos/NRokishchuk/Kotlin/contributors', 'subscribers_url': 'https://api.github.com/repos/NRokishchuk/Kotlin/subscribers', 'subscription_url': 'https://api.github.com/repos/NRokishchuk/Kotlin/subscription', 'commits_url': 'https://api.github.com/repos/NRokishchuk/Kotlin/commits{/sha}', 'git_commits_url': 'https://api.github.com/repos/NRokishchuk/Kotlin/git/commits{/sha}', 'comments_url': 'https://api.github.com/repos/NRokishchuk/Kotlin/comments{/number}', 'issue_comment_url': 'https://api.github.com/repos/NRokishchuk/Kotlin/issues/comments{/number}', 'contents_url': 'https://api.github.com/repos/NRokishchuk/Kotlin/contents/{+path}', 'compare_url': 'https://api.github.com/repos/NRokishchuk/Kotlin/compare/{base}...{head}', 'merges_url': 'https://api.github.com/repos/NRokishchuk/Kotlin/merges', 'archive_url': 'https://api.github.com/repos/NRokishchuk/Kotlin/{archive_format}{/ref}', 'downloads_url': 'https://api.github.com/repos/NRokishchuk/Kotlin/downloads', 'issues_url': 'https://api.github.com/repos/NRokishchuk/Kotlin/issues{/number}', 'pulls_url': 'https://api.github.com/repos/NRokishchuk/Kotlin/pulls{/number}', 'milestones_url': 'https://api.github.com/repos/NRokishchuk/Kotlin/milestones{/number}', 'notifications_url': 'https://api.github.com/repos/NRokishchuk/Kotlin/notifications{?since,all,participating}', 'labels_url': 'https://api.github.com/repos/NRokishchuk/Kotlin/labels{/name}', 'releases_url': 'https://api.github.com/repos/NRokishchuk/Kotlin/releases{/id}', 'deployments_url': 'https://api.github.com/repos/NRokishchuk/Kotlin/deployments', 'created_at': '2021-07-05T07:47:23Z', 'updated_at': '2021-07-05T07:47:23Z', 'pushed_at': '2021-07-05T07:47:23Z', 'git_url': 'git://github.com/NRokishchuk/Kotlin.git', 'ssh_url': 'git@github.com:NRokishchuk/Kotlin.git', 'clone_url': 'https://github.com/NRokishchuk/Kotlin.git', 'svn_url': 'https://github.com/NRokishchuk/Kotlin', 'homepage': None, 'size': 0, 'stargazers_count': 0, 'watchers_count': 0, 'language': None, 'has_issues': True, 'has_projects': True, 'has_downloads': True, 'has_wiki': True, 'has_pages': False, 'forks_count': 0, 'mirror_url': None, 'archived': False, 'disabled': False, 'open_issues_count': 0, 'license': None, 'forks': 0, 'open_issues': 0, 'watchers': 0, 'default_branch': 'main'}, {'id': 403564488, 'node_id': 'MDEwOlJlcG9zaXRvcnk0MDM1NjQ0ODg=', 'name': 'Methods-of-collecting-and-processing-data-from-the-Internet', 'full_name': 'NRokishchuk/Methods-of-collecting-and-processing-data-from-the-Internet', 'private': False, 'owner': {'login': 'NRokishchuk', 'id': 84530924, 'node_id': 'MDQ6VXNlcjg0NTMwOTI0', 'avatar_url': 'https://avatars.githubusercontent.com/u/84530924?v=4', 'gravatar_id': '', 'url': 'https://api.github.com/users/NRokishchuk', 'html_url': 'https://github.com/NRokishchuk', 'followers_url': 'https://api.github.com/users/NRokishchuk/followers', 'following_url': 'https://api.github.com/users/NRokishchuk/following{/other_user}', 'gists_url': 'https://api.github.com/users/NRokishchuk/gists{/gist_id}', 'starred_url': 'https://api.github.com/users/NRokishchuk/starred{/owner}{/repo}', 'subscriptions_url': 'https://api.github.com/users/NRokishchuk/subscriptions', 'organizations_url': 'https://api.github.com/users/NRokishchuk/orgs', 'repos_url': 'https://api.github.com/users/NRokishchuk/repos', 'events_url': 'https://api.github.com/users/NRokishchuk/events{/privacy}', 'received_events_url': 'https://api.github.com/users/NRokishchuk/received_events', 'type': 'User', 'site_admin': False}, 'html_url': 'https://github.com/NRokishchuk/Methods-of-collecting-and-processing-data-from-the-Internet', 'description': 'AI_Methods of collecting and processing data from the Internet', 'fork': False, 'url': 'https://api.github.com/repos/NRokishchuk/Methods-of-collecting-and-processing-data-from-the-Internet', 'forks_url': 'https://api.github.com/repos/NRokishchuk/Methods-of-collecting-and-processing-data-from-the-Internet/forks', 'keys_url': 'https://api.github.com/repos/NRokishchuk/Methods-of-collecting-and-processing-data-from-the-Internet/keys{/key_id}', 'collaborators_url': 'https://api.github.com/repos/NRokishchuk/Methods-of-collecting-and-processing-data-from-the-Internet/collaborators{/collaborator}', 'teams_url': 'https://api.github.com/repos/NRokishchuk/Methods-of-collecting-and-processing-data-from-the-Internet/teams', 'hooks_url': 'https://api.github.com/repos/NRokishchuk/Methods-of-collecting-and-processing-data-from-the-Internet/hooks', 'issue_events_url': 'https://api.github.com/repos/NRokishchuk/Methods-of-collecting-and-processing-data-from-the-Internet/issues/events{/number}', 'events_url': 'https://api.github.com/repos/NRokishchuk/Methods-of-collecting-and-processing-data-from-the-Internet/events', 'assignees_url': 'https://api.github.com/repos/NRokishchuk/Methods-of-collecting-and-processing-data-from-the-Internet/assignees{/user}', 'branches_url': 'https://api.github.com/repos/NRokishchuk/Methods-of-collecting-and-processing-data-from-the-Internet/branches{/branch}', 'tags_url': 'https://api.github.com/repos/NRokishchuk/Methods-of-collecting-and-processing-data-from-the-Internet/tags', 'blobs_url': 'https://api.github.com/repos/NRokishchuk/Methods-of-collecting-and-processing-data-from-the-Internet/git/blobs{/sha}', 'git_tags_url': 'https://api.github.com/repos/NRokishchuk/Methods-of-collecting-and-processing-data-from-the-Internet/git/tags{/sha}', 'git_refs_url': 'https://api.github.com/repos/NRokishchuk/Methods-of-collecting-and-processing-data-from-the-Internet/git/refs{/sha}', 'trees_url': 'https://api.github.com/repos/NRokishchuk/Methods-of-collecting-and-processing-data-from-the-Internet/git/trees{/sha}', 'statuses_url': 'https://api.github.com/repos/NRokishchuk/Methods-of-collecting-and-processing-data-from-the-Internet/statuses/{sha}', 'languages_url': 'https://api.github.com/repos/NRokishchuk/Methods-of-collecting-and-processing-data-from-the-Internet/languages', 'stargazers_url': 'https://api.github.com/repos/NRokishchuk/Methods-of-collecting-and-processing-data-from-the-Internet/stargazers', 'contributors_url': 'https://api.github.com/repos/NRokishchuk/Methods-of-collecting-and-processing-data-from-the-Internet/contributors', 'subscribers_url': 'https://api.github.com/repos/NRokishchuk/Methods-of-collecting-and-processing-data-from-the-Internet/subscribers', 'subscription_url': 'https://api.github.com/repos/NRokishchuk/Methods-of-collecting-and-processing-data-from-the-Internet/subscription', 'commits_url': 'https://api.github.com/repos/NRokishchuk/Methods-of-collecting-and-processing-data-from-the-Internet/commits{/sha}', 'git_commits_url': 'https://api.github.com/repos/NRokishchuk/Methods-of-collecting-and-processing-data-from-the-Internet/git/commits{/sha}', 'comments_url': 'https://api.github.com/repos/NRokishchuk/Methods-of-collecting-and-processing-data-from-the-Internet/comments{/number}', 'issue_comment_url': 'https://api.github.com/repos/NRokishchuk/Methods-of-collecting-and-processing-data-from-the-Internet/issues/comments{/number}', 'contents_url': 'https://api.github.com/repos/NRokishchuk/Methods-of-collecting-and-processing-data-from-the-Internet/contents/{+path}', 'compare_url': 'https://api.github.com/repos/NRokishchuk/Methods-of-collecting-and-processing-data-from-the-Internet/compare/{base}...{head}', 'merges_url': 'https://api.github.com/repos/NRokishchuk/Methods-of-collecting-and-processing-data-from-the-Internet/merges', 'archive_url': 'https://api.github.com/repos/NRokishchuk/Methods-of-collecting-and-processing-data-from-the-Internet/{archive_format}{/ref}', 'downloads_url': 'https://api.github.com/repos/NRokishchuk/Methods-of-collecting-and-processing-data-from-the-Internet/downloads', 'issues_url': 'https://api.github.com/repos/NRokishchuk/Methods-of-collecting-and-processing-data-from-the-Internet/issues{/number}', 'pulls_url': 'https://api.github.com/repos/NRokishchuk/Methods-of-collecting-and-processing-data-from-the-Internet/pulls{/number}', 'milestones_url': 'https://api.github.com/repos/NRokishchuk/Methods-of-collecting-and-processing-data-from-the-Internet/milestones{/number}', 'notifications_url': 'https://api.github.com/repos/NRokishchuk/Methods-of-collecting-and-processing-data-from-the-Internet/notifications{?since,all,participating}', 'labels_url': 'https://api.github.com/repos/NRokishchuk/Methods-of-collecting-and-processing-data-from-the-Internet/labels{/name}', 'releases_url': 'https://api.github.com/repos/NRokishchuk/Methods-of-collecting-and-processing-data-from-the-Internet/releases{/id}', 'deployments_url': 'https://api.github.com/repos/NRokishchuk/Methods-of-collecting-and-processing-data-from-the-Internet/deployments', 'created_at': '2021-09-06T09:36:33Z', 'updated_at': '2021-09-06T09:36:33Z', 'pushed_at': '2021-09-06T09:36:33Z', 'git_url': 'git://github.com/NRokishchuk/Methods-of-collecting-and-processing-data-from-the-Internet.git', 'ssh_url': 'git@github.com:NRokishchuk/Methods-of-collecting-and-processing-data-from-the-Internet.git', 'clone_url': 'https://github.com/NRokishchuk/Methods-of-collecting-and-processing-data-from-the-Internet.git', 'svn_url': 'https://github.com/NRokishchuk/Methods-of-collecting-and-processing-data-from-the-Internet', 'homepage': None, 'size': 0, 'stargazers_count': 0, 'watchers_count': 0, 'language': None, 'has_issues': True, 'has_projects': True, 'has_downloads': True, 'has_wiki': True, 'has_pages': False, 'forks_count': 0, 'mirror_url': None, 'archived': False, 'disabled': False, 'open_issues_count': 0, 'license': None, 'forks': 0, 'open_issues': 0, 'watchers': 0, 'default_branch': 'main'}, {'id': 379208997, 'node_id': 'MDEwOlJlcG9zaXRvcnkzNzkyMDg5OTc=', 'name': 'Python_AI', 'full_name': 'NRokishchuk/Python_AI', 'private': False, 'owner': {'login': 'NRokishchuk', 'id': 84530924, 'node_id': 'MDQ6VXNlcjg0NTMwOTI0', 'avatar_url': 'https://avatars.githubusercontent.com/u/84530924?v=4', 'gravatar_id': '', 'url': 'https://api.github.com/users/NRokishchuk', 'html_url': 'https://github.com/NRokishchuk', 'followers_url': 'https://api.github.com/users/NRokishchuk/followers', 'following_url': 'https://api.github.com/users/NRokishchuk/following{/other_user}', 'gists_url': 'https://api.github.com/users/NRokishchuk/gists{/gist_id}', 'starred_url': 'https://api.github.com/users/NRokishchuk/starred{/owner}{/repo}', 'subscriptions_url': 'https://api.github.com/users/NRokishchuk/subscriptions', 'organizations_url': 'https://api.github.com/users/NRokishchuk/orgs', 'repos_url': 'https://api.github.com/users/NRokishchuk/repos', 'events_url': 'https://api.github.com/users/NRokishchuk/events{/privacy}', 'received_events_url': 'https://api.github.com/users/NRokishchuk/received_events', 'type': 'User', 'site_admin': False}, 'html_url': 'https://github.com/NRokishchuk/Python_AI', 'description': None, 'fork': False, 'url': 'https://api.github.com/repos/NRokishchuk/Python_AI', 'forks_url': 'https://api.github.com/repos/NRokishchuk/Python_AI/forks', 'keys_url': 'https://api.github.com/repos/NRokishchuk/Python_AI/keys{/key_id}', 'collaborators_url': 'https://api.github.com/repos/NRokishchuk/Python_AI/collaborators{/collaborator}', 'teams_url': 'https://api.github.com/repos/NRokishchuk/Python_AI/teams', 'hooks_url': 'https://api.github.com/repos/NRokishchuk/Python_AI/hooks', 'issue_events_url': 'https://api.github.com/repos/NRokishchuk/Python_AI/issues/events{/number}', 'events_url': 'https://api.github.com/repos/NRokishchuk/Python_AI/events', 'assignees_url': 'https://api.github.com/repos/NRokishchuk/Python_AI/assignees{/user}', 'branches_url': 'https://api.github.com/repos/NRokishchuk/Python_AI/branches{/branch}', 'tags_url': 'https://api.github.com/repos/NRokishchuk/Python_AI/tags', 'blobs_url': 'https://api.github.com/repos/NRokishchuk/Python_AI/git/blobs{/sha}', 'git_tags_url': 'https://api.github.com/repos/NRokishchuk/Python_AI/git/tags{/sha}', 'git_refs_url': 'https://api.github.com/repos/NRokishchuk/Python_AI/git/refs{/sha}', 'trees_url': 'https://api.github.com/repos/NRokishchuk/Python_AI/git/trees{/sha}', 'statuses_url': 'https://api.github.com/repos/NRokishchuk/Python_AI/statuses/{sha}', 'languages_url': 'https://api.github.com/repos/NRokishchuk/Python_AI/languages', 'stargazers_url': 'https://api.github.com/repos/NRokishchuk/Python_AI/stargazers', 'contributors_url': 'https://api.github.com/repos/NRokishchuk/Python_AI/contributors', 'subscribers_url': 'https://api.github.com/repos/NRokishchuk/Python_AI/subscribers', 'subscription_url': 'https://api.github.com/repos/NRokishchuk/Python_AI/subscription', 'commits_url': 'https://api.github.com/repos/NRokishchuk/Python_AI/commits{/sha}', 'git_commits_url': 'https://api.github.com/repos/NRokishchuk/Python_AI/git/commits{/sha}', 'comments_url': 'https://api.github.com/repos/NRokishchuk/Python_AI/comments{/number}', 'issue_comment_url': 'https://api.github.com/repos/NRokishchuk/Python_AI/issues/comments{/number}', 'contents_url': 'https://api.github.com/repos/NRokishchuk/Python_AI/contents/{+path}', 'compare_url': 'https://api.github.com/repos/NRokishchuk/Python_AI/compare/{base}...{head}', 'merges_url': 'https://api.github.com/repos/NRokishchuk/Python_AI/merges', 'archive_url': 'https://api.github.com/repos/NRokishchuk/Python_AI/{archive_format}{/ref}', 'downloads_url': 'https://api.github.com/repos/NRokishchuk/Python_AI/downloads', 'issues_url': 'https://api.github.com/repos/NRokishchuk/Python_AI/issues{/number}', 'pulls_url': 'https://api.github.com/repos/NRokishchuk/Python_AI/pulls{/number}', 'milestones_url': 'https://api.github.com/repos/NRokishchuk/Python_AI/milestones{/number}', 'notifications_url': 'https://api.github.com/repos/NRokishchuk/Python_AI/notifications{?since,all,participating}', 'labels_url': 'https://api.github.com/repos/NRokishchuk/Python_AI/labels{/name}', 'releases_url': 'https://api.github.com/repos/NRokishchuk/Python_AI/releases{/id}', 'deployments_url': 'https://api.github.com/repos/NRokishchuk/Python_AI/deployments', 'created_at': '2021-06-22T09:12:43Z', 'updated_at': '2021-06-22T09:12:46Z', 'pushed_at': '2021-07-07T10:59:11Z', 'git_url': 'git://github.com/NRokishchuk/Python_AI.git', 'ssh_url': 'git@github.com:NRokishchuk/Python_AI.git', 'clone_url': 'https://github.com/NRokishchuk/Python_AI.git', 'svn_url': 'https://github.com/NRokishchuk/Python_AI', 'homepage': None, 'size': 145, 'stargazers_count': 0, 'watchers_count': 0, 'language': None, 'has_issues': True, 'has_projects': True, 'has_downloads': True, 'has_wiki': True, 'has_pages': False, 'forks_count': 0, 'mirror_url': None, 'archived': False, 'disabled': False, 'open_issues_count': 0, 'license': None, 'forks': 0, 'open_issues': 0, 'watchers': 0, 'default_branch': 'main'}, {'id': 375593946, 'node_id': 'MDEwOlJlcG9zaXRvcnkzNzU1OTM5NDY=', 'name': 'Test', 'full_name': 'NRokishchuk/Test', 'private': False, 'owner': {'login': 'NRokishchuk', 'id': 84530924, 'node_id': 'MDQ6VXNlcjg0NTMwOTI0', 'avatar_url': 'https://avatars.githubusercontent.com/u/84530924?v=4', 'gravatar_id': '', 'url': 'https://api.github.com/users/NRokishchuk', 'html_url': 'https://github.com/NRokishchuk', 'followers_url': 'https://api.github.com/users/NRokishchuk/followers', 'following_url': 'https://api.github.com/users/NRokishchuk/following{/other_user}', 'gists_url': 'https://api.github.com/users/NRokishchuk/gists{/gist_id}', 'starred_url': 'https://api.github.com/users/NRokishchuk/starred{/owner}{/repo}', 'subscriptions_url': 'https://api.github.com/users/NRokishchuk/subscriptions', 'organizations_url': 'https://api.github.com/users/NRokishchuk/orgs', 'repos_url': 'https://api.github.com/users/NRokishchuk/repos', 'events_url': 'https://api.github.com/users/NRokishchuk/events{/privacy}', 'received_events_url': 'https://api.github.com/users/NRokishchuk/received_events', 'type': 'User', 'site_admin': False}, 'html_url': 'https://github.com/NRokishchuk/Test', 'description': 'Test', 'fork': False, 'url': 'https://api.github.com/repos/NRokishchuk/Test', 'forks_url': 'https://api.github.com/repos/NRokishchuk/Test/forks', 'keys_url': 'https://api.github.com/repos/NRokishchuk/Test/keys{/key_id}', 'collaborators_url': 'https://api.github.com/repos/NRokishchuk/Test/collaborators{/collaborator}', 'teams_url': 'https://api.github.com/repos/NRokishchuk/Test/teams', 'hooks_url': 'https://api.github.com/repos/NRokishchuk/Test/hooks', 'issue_events_url': 'https://api.github.com/repos/NRokishchuk/Test/issues/events{/number}', 'events_url': 'https://api.github.com/repos/NRokishchuk/Test/events', 'assignees_url': 'https://api.github.com/repos/NRokishchuk/Test/assignees{/user}', 'branches_url': 'https://api.github.com/repos/NRokishchuk/Test/branches{/branch}', 'tags_url': 'https://api.github.com/repos/NRokishchuk/Test/tags', 'blobs_url': 'https://api.github.com/repos/NRokishchuk/Test/git/blobs{/sha}', 'git_tags_url': 'https://api.github.com/repos/NRokishchuk/Test/git/tags{/sha}', 'git_refs_url': 'https://api.github.com/repos/NRokishchuk/Test/git/refs{/sha}', 'trees_url': 'https://api.github.com/repos/NRokishchuk/Test/git/trees{/sha}', 'statuses_url': 'https://api.github.com/repos/NRokishchuk/Test/statuses/{sha}', 'languages_url': 'https://api.github.com/repos/NRokishchuk/Test/languages', 'stargazers_url': 'https://api.github.com/repos/NRokishchuk/Test/stargazers', 'contributors_url': 'https://api.github.com/repos/NRokishchuk/Test/contributors', 'subscribers_url': 'https://api.github.com/repos/NRokishchuk/Test/subscribers', 'subscription_url': 'https://api.github.com/repos/NRokishchuk/Test/subscription', 'commits_url': 'https://api.github.com/repos/NRokishchuk/Test/commits{/sha}', 'git_commits_url': 'https://api.github.com/repos/NRokishchuk/Test/git/commits{/sha}', 'comments_url': 'https://api.github.com/repos/NRokishchuk/Test/comments{/number}', 'issue_comment_url': 'https://api.github.com/repos/NRokishchuk/Test/issues/comments{/number}', 'contents_url': 'https://api.github.com/repos/NRokishchuk/Test/contents/{+path}', 'compare_url': 'https://api.github.com/repos/NRokishchuk/Test/compare/{base}...{head}', 'merges_url': 'https://api.github.com/repos/NRokishchuk/Test/merges', 'archive_url': 'https://api.github.com/repos/NRokishchuk/Test/{archive_format}{/ref}', 'downloads_url': 'https://api.github.com/repos/NRokishchuk/Test/downloads', 'issues_url': 'https://api.github.com/repos/NRokishchuk/Test/issues{/number}', 'pulls_url': 'https://api.github.com/repos/NRokishchuk/Test/pulls{/number}', 'milestones_url': 'https://api.github.com/repos/NRokishchuk/Test/milestones{/number}', 'notifications_url': 'https://api.github.com/repos/NRokishchuk/Test/notifications{?since,all,participating}', 'labels_url': 'https://api.github.com/repos/NRokishchuk/Test/labels{/name}', 'releases_url': 'https://api.github.com/repos/NRokishchuk/Test/releases{/id}', 'deployments_url': 'https://api.github.com/repos/NRokishchuk/Test/deployments', 'created_at': '2021-06-10T06:28:44Z', 'updated_at': '2021-06-10T06:28:51Z', 'pushed_at': '2021-06-10T06:28:48Z', 'git_url': 'git://github.com/NRokishchuk/Test.git', 'ssh_url': 'git@github.com:NRokishchuk/Test.git', 'clone_url': 'https://github.com/NRokishchuk/Test.git', 'svn_url': 'https://github.com/NRokishchuk/Test', 'homepage': None, 'size': 0, 'stargazers_count': 0, 'watchers_count': 0, 'language': None, 'has_issues': True, 'has_projects': True, 'has_downloads': True, 'has_wiki': True, 'has_pages': False, 'forks_count': 0, 'mirror_url': None, 'archived': False, 'disabled': False, 'open_issues_count': 0, 'license': None, 'forks': 0, 'open_issues': 0, 'watchers': 0, 'default_branch': 'main'}]\n"
     ]
    }
   ],
   "source": [
    "print(response)"
   ]
  },
  {
   "cell_type": "code",
   "execution_count": 108,
   "id": "34aecd1f",
   "metadata": {},
   "outputs": [
    {
     "name": "stdout",
     "output_type": "stream",
     "text": [
      "Список репозиториев пользователя NRokishchuk\n",
      "['FirstCalc', 'Kotlin', 'Methods-of-collecting-and-processing-data-from-the-Internet', 'Python_AI', 'Test']\n"
     ]
    }
   ],
   "source": [
    "repo = []\n",
    "for itm in response:\n",
    "    repo.append(itm['name'])\n",
    "print(f'Список репозиториев пользователя {username}')\n",
    "print(repo)"
   ]
  },
  {
   "cell_type": "code",
   "execution_count": 109,
   "id": "e18420f4",
   "metadata": {},
   "outputs": [],
   "source": [
    "with open('data.json', 'w') as f:\n",
    "    json_data = json.dump(repo, f)"
   ]
  },
  {
   "cell_type": "code",
   "execution_count": null,
   "id": "8126fa0d",
   "metadata": {},
   "outputs": [],
   "source": [
    "#2. Изучить список открытых API. Найти среди них любое, требующее авторизацию (любого типа). \n",
    "#Выполнить запросы к нему, пройдя авторизацию. Ответ сервера записать в файл."
   ]
  },
  {
   "cell_type": "code",
   "execution_count": 110,
   "id": "f3299861",
   "metadata": {},
   "outputs": [],
   "source": [
    "import requests\n",
    "import time\n",
    "import json"
   ]
  },
  {
   "cell_type": "code",
   "execution_count": 111,
   "id": "97cd08a6",
   "metadata": {},
   "outputs": [
    {
     "name": "stdout",
     "output_type": "stream",
     "text": [
      "description: облачно с прояснениями\n",
      "temp: 21.78\n",
      "temp_min: 19.82\n",
      "temp_max: 24.2\n",
      "pressure: 1024\n"
     ]
    }
   ],
   "source": [
    "city = 'London'\n",
    "appid = 'cbf6cb98153946d9383f0757ca45b92d'\n",
    "service = 'http://api.openweathermap.org/data/2.5/weather'\n",
    "try:\n",
    "    res = requests.get(service,\n",
    "                 params={'q': city, 'units': 'metric', 'lang': 'ru', 'APPID': appid})\n",
    "    data = res.json()\n",
    "    print('description:', data['weather'][0]['description'])\n",
    "    print('temp:', data['main']['temp'])\n",
    "    print('temp_min:', data['main']['temp_min']) \n",
    "    print('temp_max:', data['main']['temp_max'])\n",
    "    print('pressure:', data['main']['pressure'])    \n",
    "except Exception as e:\n",
    "    print('Error:', e)\n",
    "    pass"
   ]
  },
  {
   "cell_type": "code",
   "execution_count": 112,
   "id": "70e4bc17",
   "metadata": {},
   "outputs": [],
   "source": [
    "with open('weather.json', 'w') as f:\n",
    "    json_repo = json.dump(data, f)"
   ]
  }
 ],
 "metadata": {
  "kernelspec": {
   "display_name": "Python 3",
   "language": "python",
   "name": "python3"
  },
  "language_info": {
   "codemirror_mode": {
    "name": "ipython",
    "version": 3
   },
   "file_extension": ".py",
   "mimetype": "text/x-python",
   "name": "python",
   "nbconvert_exporter": "python",
   "pygments_lexer": "ipython3",
   "version": "3.8.8"
  }
 },
 "nbformat": 4,
 "nbformat_minor": 5
}
